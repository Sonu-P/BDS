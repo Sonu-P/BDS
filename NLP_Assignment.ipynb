{
  "nbformat": 4,
  "nbformat_minor": 0,
  "metadata": {
    "colab": {
      "provenance": [],
      "toc_visible": true,
      "gpuType": "T4",
      "authorship_tag": "ABX9TyOEBnXeQgDdbDizcOwvCq7Y",
      "include_colab_link": true
    },
    "kernelspec": {
      "name": "python3",
      "display_name": "Python 3"
    },
    "language_info": {
      "name": "python"
    },
    "accelerator": "GPU"
  },
  "cells": [
    {
      "cell_type": "markdown",
      "metadata": {
        "id": "view-in-github",
        "colab_type": "text"
      },
      "source": [
        "<a href=\"https://colab.research.google.com/github/Sonu-P/BDS/blob/main/NLP_Assignment.ipynb\" target=\"_parent\"><img src=\"https://colab.research.google.com/assets/colab-badge.svg\" alt=\"Open In Colab\"/></a>"
      ]
    },
    {
      "cell_type": "code",
      "source": [
        "!pip install sentence_transformers wikipedia pytextrank -q\n",
        "# !pip install wikipedia -q\n",
        "# !pip install pytextrank -q"
      ],
      "metadata": {
        "id": "t0Yc-CXByRbd"
      },
      "execution_count": 1,
      "outputs": []
    },
    {
      "cell_type": "code",
      "execution_count": 2,
      "metadata": {
        "id": "OkKZe9-5uyiV"
      },
      "outputs": [],
      "source": [
        "import os\n",
        "import pandas as pd\n",
        "import numpy as np\n",
        "import math\n",
        "import random\n",
        "import re\n",
        "import warnings\n",
        "import glob\n",
        "import nltk\n",
        "from sentence_transformers import SentenceTransformer, util\n",
        "from sentence_transformers import models, InputExample, losses\n",
        "import wikipedia\n",
        "from wordcloud import WordCloud, STOPWORDS, ImageColorGenerator\n",
        "import matplotlib.pyplot as plt\n",
        "import spacy\n",
        "import pytextrank\n",
        "from IPython.display import HTML, display\n",
        "warnings.filterwarnings(\"ignore\")"
      ]
    },
    {
      "cell_type": "code",
      "source": [
        "def set_css():\n",
        "  display(HTML('''\n",
        "  <style>\n",
        "    pre {\n",
        "        white-space: pre-wrap;\n",
        "    }\n",
        "  </style>\n",
        "  '''))\n",
        "get_ipython().events.register('pre_run_cell', set_css)"
      ],
      "metadata": {
        "id": "K__UViX2zVGb"
      },
      "execution_count": 3,
      "outputs": []
    },
    {
      "cell_type": "code",
      "source": [
        "model_path = 'google/bigbird-roberta-base' # downloaded the model from huggingface\n",
        "max_seq_length = 128  # max sequence length that model can process at a time\n",
        "\n",
        "word_embedding_model = models.Transformer(model_path, max_seq_length = max_seq_length)\n",
        "pooling_model = models.Pooling(word_embedding_model.get_word_embedding_dimension(), pooling_mode_mean_tokens = True) # mean pooling is used\n",
        "model = SentenceTransformer(modules=[word_embedding_model, pooling_model])"
      ],
      "metadata": {
        "colab": {
          "base_uri": "https://localhost:8080/",
          "height": 17
        },
        "id": "yb7ioe0fvXJl",
        "outputId": "1f970cc3-cfac-44d7-f879-ebf2c6d24d3b"
      },
      "execution_count": 4,
      "outputs": [
        {
          "output_type": "display_data",
          "data": {
            "text/plain": [
              "<IPython.core.display.HTML object>"
            ],
            "text/html": [
              "\n",
              "  <style>\n",
              "    pre {\n",
              "        white-space: pre-wrap;\n",
              "    }\n",
              "  </style>\n",
              "  "
            ]
          },
          "metadata": {}
        }
      ]
    },
    {
      "cell_type": "code",
      "source": [
        "# Processing function as four main sections:\n",
        "# pre-processing\n",
        "# worldcloud\n",
        "# key words extraction\n",
        "# summarization\n",
        "\n",
        "def processing(text):\n",
        "    ''' Text preprocessing : Regex to clean the text'''\n",
        "    text = re.sub(r'=(.*)=', '', text)  # removing the sub headings from the text\n",
        "    text = re.sub(r'=', ' ', text)  # removing any \"=\"\n",
        "\n",
        "    print(\"\\n************************\")\n",
        "    print(\"Overview of the document:\")\n",
        "    print(\"************************\\n\")\n",
        "\n",
        "    ''' Worldcloud creation : max_font_size and max_words are taken post certain iterations that best fits the data '''\n",
        "\n",
        "    wordcloud = WordCloud(max_font_size=100, max_words=50, background_color=\"black\").generate(text)\n",
        "    plt.figure()\n",
        "    plt.imshow(wordcloud, interpolation=\"bilinear\")\n",
        "    plt.axis(\"off\")\n",
        "    plt.show()\n",
        "\n",
        "    print(\"\\n************************************\")\n",
        "    print(\"Important phrases in the document:\")\n",
        "    print(\"************************************\\n\")\n",
        "\n",
        "    ''' Important keywords selection :\n",
        "    spacy pre-trained english embeddings : en_core_web_sm is utilized for building understanding aroung the data.\n",
        "    \"text rank\", an algorithm similar to page rank is used, which assigns more weightage to key words or phrases that are more\n",
        "    linked to surrounding words.'''\n",
        "\n",
        "    nlp = spacy.load(\"en_core_web_sm\")  # loading the english-core-web-small embeddings\n",
        "    nlp.add_pipe(\"textrank\")  # adding text-rank pipeline\n",
        "    doc = nlp(text)  # passing input text to the pipeline\n",
        "    for phrase in doc._.phrases[:3]:  # only printing top 3 phrases\n",
        "        print('* {}\\n'.format(phrase.text))\n",
        "\n",
        "    ''' Segregating sentences from the overall text. Regex to seprate sentences only on specific conditions '''\n",
        "\n",
        "    punct_regex = r\"(?=\\S)(?:[A-Z][a-z]{0,3}\\.|[^.?!]|\\.(?!\\s+[A-Z]))*.?\"\n",
        "    sentences = re.findall(punct_regex, text)\n",
        "\n",
        "    ''' Summarization by computing similarity between sentences.\n",
        "    sentence embeddings here are computed through the transformer model.\n",
        "    each sentence's similarity is computed with all others. Sentence combinations having scores between 0.90 and 0.99 are selected.\n",
        "    sentence level grouping is performed to get the sum of scores\n",
        "    top n sentences with maximum scores are selected and combined is their natural order to get the summary'''\n",
        "\n",
        "    cos_sim = []  # list for storing cosine similarity scores\n",
        "    element = []  # list to store sentences index\n",
        "    counter = 0   # initializing counter\n",
        "    for i in sentences:\n",
        "        sent_emb = model.encode(i)\n",
        "        for j in sentences:\n",
        "            other_emb = model.encode(j)\n",
        "            element.append(counter)\n",
        "            cos_sim.append(round(util.cos_sim(other_emb, sent_emb).item(), 2))\n",
        "        counter += 1\n",
        "\n",
        "    df = pd.DataFrame({'element':element, 'sim':cos_sim})\n",
        "    df_f = df[(df['sim']>0.7)&(df['sim']!=1)]\n",
        "    df_f1 = df_f.groupby('element').agg({'sim':'sum'}).sort_values('sim', ascending=False).head(4).reset_index()\n",
        "    element_list = [i for i in df_f1['element']]\n",
        "    element_list.sort()\n",
        "\n",
        "    values = []\n",
        "    for i in element_list:\n",
        "        values.append(sentences[i])\n",
        "    summary = ' '.join(str(i) for i in values)\n",
        "    print(\"\\n*********\")\n",
        "    print(\"Summary:\")\n",
        "    print(\"*********\\n\")\n",
        "    print(summary)"
      ],
      "metadata": {
        "colab": {
          "base_uri": "https://localhost:8080/",
          "height": 17
        },
        "id": "RtvlkvYYwXa3",
        "outputId": "bae0dc01-4447-4259-ff59-4c813000478c"
      },
      "execution_count": 5,
      "outputs": [
        {
          "output_type": "display_data",
          "data": {
            "text/plain": [
              "<IPython.core.display.HTML object>"
            ],
            "text/html": [
              "\n",
              "  <style>\n",
              "    pre {\n",
              "        white-space: pre-wrap;\n",
              "    }\n",
              "  </style>\n",
              "  "
            ]
          },
          "metadata": {}
        }
      ]
    },
    {
      "cell_type": "code",
      "source": [
        "sample = input(\"Please select the topic\\n\")\n",
        "w = wikipedia.page(sample)\n",
        "processing(w.content[:4000])"
      ],
      "metadata": {
        "colab": {
          "base_uri": "https://localhost:8080/",
          "height": 401
        },
        "id": "_ySbfdfTw59-",
        "outputId": "9b395d52-5da8-4263-c546-0f9e5706cd43"
      },
      "execution_count": 7,
      "outputs": [
        {
          "output_type": "display_data",
          "data": {
            "text/plain": [
              "<IPython.core.display.HTML object>"
            ],
            "text/html": [
              "\n",
              "  <style>\n",
              "    pre {\n",
              "        white-space: pre-wrap;\n",
              "    }\n",
              "  </style>\n",
              "  "
            ]
          },
          "metadata": {}
        },
        {
          "output_type": "error",
          "ename": "KeyboardInterrupt",
          "evalue": "ignored",
          "traceback": [
            "\u001b[0;31m---------------------------------------------------------------------------\u001b[0m",
            "\u001b[0;31mKeyboardInterrupt\u001b[0m                         Traceback (most recent call last)",
            "\u001b[0;32m<timed exec>\u001b[0m in \u001b[0;36m<module>\u001b[0;34m\u001b[0m\n",
            "\u001b[0;32m/usr/local/lib/python3.10/dist-packages/ipykernel/kernelbase.py\u001b[0m in \u001b[0;36mraw_input\u001b[0;34m(self, prompt)\u001b[0m\n\u001b[1;32m    849\u001b[0m                 \u001b[0;34m\"raw_input was called, but this frontend does not support input requests.\"\u001b[0m\u001b[0;34m\u001b[0m\u001b[0;34m\u001b[0m\u001b[0m\n\u001b[1;32m    850\u001b[0m             )\n\u001b[0;32m--> 851\u001b[0;31m         return self._input_request(str(prompt),\n\u001b[0m\u001b[1;32m    852\u001b[0m             \u001b[0mself\u001b[0m\u001b[0;34m.\u001b[0m\u001b[0m_parent_ident\u001b[0m\u001b[0;34m,\u001b[0m\u001b[0;34m\u001b[0m\u001b[0;34m\u001b[0m\u001b[0m\n\u001b[1;32m    853\u001b[0m             \u001b[0mself\u001b[0m\u001b[0;34m.\u001b[0m\u001b[0m_parent_header\u001b[0m\u001b[0;34m,\u001b[0m\u001b[0;34m\u001b[0m\u001b[0;34m\u001b[0m\u001b[0m\n",
            "\u001b[0;32m/usr/local/lib/python3.10/dist-packages/ipykernel/kernelbase.py\u001b[0m in \u001b[0;36m_input_request\u001b[0;34m(self, prompt, ident, parent, password)\u001b[0m\n\u001b[1;32m    893\u001b[0m             \u001b[0;32mexcept\u001b[0m \u001b[0mKeyboardInterrupt\u001b[0m\u001b[0;34m:\u001b[0m\u001b[0;34m\u001b[0m\u001b[0;34m\u001b[0m\u001b[0m\n\u001b[1;32m    894\u001b[0m                 \u001b[0;31m# re-raise KeyboardInterrupt, to truncate traceback\u001b[0m\u001b[0;34m\u001b[0m\u001b[0;34m\u001b[0m\u001b[0m\n\u001b[0;32m--> 895\u001b[0;31m                 \u001b[0;32mraise\u001b[0m \u001b[0mKeyboardInterrupt\u001b[0m\u001b[0;34m(\u001b[0m\u001b[0;34m\"Interrupted by user\"\u001b[0m\u001b[0;34m)\u001b[0m \u001b[0;32mfrom\u001b[0m \u001b[0;32mNone\u001b[0m\u001b[0;34m\u001b[0m\u001b[0;34m\u001b[0m\u001b[0m\n\u001b[0m\u001b[1;32m    896\u001b[0m             \u001b[0;32mexcept\u001b[0m \u001b[0mException\u001b[0m \u001b[0;32mas\u001b[0m \u001b[0me\u001b[0m\u001b[0;34m:\u001b[0m\u001b[0;34m\u001b[0m\u001b[0;34m\u001b[0m\u001b[0m\n\u001b[1;32m    897\u001b[0m                 \u001b[0mself\u001b[0m\u001b[0;34m.\u001b[0m\u001b[0mlog\u001b[0m\u001b[0;34m.\u001b[0m\u001b[0mwarning\u001b[0m\u001b[0;34m(\u001b[0m\u001b[0;34m\"Invalid Message:\"\u001b[0m\u001b[0;34m,\u001b[0m \u001b[0mexc_info\u001b[0m\u001b[0;34m=\u001b[0m\u001b[0;32mTrue\u001b[0m\u001b[0;34m)\u001b[0m\u001b[0;34m\u001b[0m\u001b[0;34m\u001b[0m\u001b[0m\n",
            "\u001b[0;31mKeyboardInterrupt\u001b[0m: Interrupted by user"
          ]
        }
      ]
    },
    {
      "cell_type": "code",
      "source": [],
      "metadata": {
        "id": "nRzRkoNAxCwU"
      },
      "execution_count": null,
      "outputs": []
    }
  ]
}